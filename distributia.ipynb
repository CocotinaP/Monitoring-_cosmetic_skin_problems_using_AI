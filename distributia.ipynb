{
  "nbformat": 4,
  "nbformat_minor": 0,
  "metadata": {
    "colab": {
      "provenance": []
    },
    "kernelspec": {
      "name": "python3",
      "display_name": "Python 3"
    },
    "language_info": {
      "name": "python"
    }
  },
  "cells": [
    {
      "cell_type": "code",
      "execution_count": 1,
      "metadata": {
        "id": "V2g8a7xvU7Qu"
      },
      "outputs": [],
      "source": [
        "import cv2\n",
        "import numpy as np\n",
        "import pandas as pd\n",
        "from collections import defaultdict\n",
        "import matplotlib.pyplot as plt\n",
        "from tqdm import tqdm\n",
        "\n",
        "def analyze_image_distribution(data_path):\n",
        "    size_stats = defaultdict(list)\n",
        "    color_stats = defaultdict(list)\n",
        "    category_counts = defaultdict(int)\n",
        "\n",
        "    for category in os.listdir(data_path):\n",
        "        category_path = os.path.join(data_path, category)\n",
        "        if os.path.isdir(category_path):\n",
        "            for img_file in tqdm(os.listdir(category_path), desc=f'Processing {category}'):\n",
        "                if img_file.lower().endswith(('.jpg', '.jpeg', '.png')):\n",
        "                    img_path = os.path.join(category_path, img_file)\n",
        "                    img = cv2.imread(img_path)\n",
        "\n",
        "                    if img is not None:\n",
        "                        height, width, channels = img.shape\n",
        "                        size_stats['height'].append(height)\n",
        "                        size_stats['width'].append(width)\n",
        "                        size_stats['aspect_ratio'].append(width/height)\n",
        "\n",
        "                        mean_color = cv2.mean(img)[:3]\n",
        "                        color_stats['mean_B'].append(mean_color[0])\n",
        "                        color_stats['mean_G'].append(mean_color[1])\n",
        "                        color_stats['mean_R'].append(mean_color[2])\n",
        "\n",
        "                        category_counts[category] += 1\n",
        "\n",
        "    return size_stats, color_stats, category_counts"
      ]
    }
  ]
}