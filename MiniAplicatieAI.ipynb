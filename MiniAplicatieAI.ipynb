{
  "cells": [
    {
      "cell_type": "code",
      "execution_count": 2,
      "metadata": {
        "colab": {
          "base_uri": "https://localhost:8080/"
        },
        "id": "NAW7_3Y1eGMW",
        "outputId": "356d1b03-4d2f-4be9-fb09-47238d21a1db"
      },
      "outputs": [
        {
          "name": "stdout",
          "output_type": "stream",
          "text": [
            "Arhiva a fost dezarhivata cu succes.\n"
          ]
        }
      ],
      "source": [
        "import zipfile\n",
        "import os\n",
        "\n",
        "zip_file = \"dataset.zip\"\n",
        "\n",
        "extract_path = \"/content/dataset\"\n",
        "\n",
        "with zipfile.ZipFile(zip_file, 'r') as zip_ref:\n",
        "    zip_ref.extractall(extract_path)\n",
        "\n",
        "print(\"Arhiva a fost dezarhivata cu succes.\")"
      ]
    },
    {
      "cell_type": "code",
      "execution_count": 5,
      "metadata": {
        "colab": {
          "base_uri": "https://localhost:8080/"
        },
        "id": "Ob3RscXse7i_",
        "outputId": "96da8b48-b5e2-4346-a2ce-3c5013fed7ef"
      },
      "outputs": [
        {
          "name": "stdout",
          "output_type": "stream",
          "text": [
            "Found 1000 files belonging to 4 classes.\n",
            "Using 800 files for training.\n",
            "Found 1000 files belonging to 4 classes.\n",
            "Using 200 files for validation.\n",
            "Classes: ['acnes', 'blackheads', 'darkspots', 'wrinkles']\n",
            "Epoch 1/10\n",
            "\u001b[1m25/25\u001b[0m \u001b[32m━━━━━━━━━━━━━━━━━━━━\u001b[0m\u001b[37m\u001b[0m \u001b[1m73s\u001b[0m 3s/step - accuracy: 0.3911 - loss: 1.9822 - val_accuracy: 0.7400 - val_loss: 0.6686\n",
            "Epoch 2/10\n",
            "\u001b[1m25/25\u001b[0m \u001b[32m━━━━━━━━━━━━━━━━━━━━\u001b[0m\u001b[37m\u001b[0m \u001b[1m69s\u001b[0m 3s/step - accuracy: 0.7163 - loss: 0.6294 - val_accuracy: 0.7450 - val_loss: 0.5614\n",
            "Epoch 3/10\n",
            "\u001b[1m25/25\u001b[0m \u001b[32m━━━━━━━━━━━━━━━━━━━━\u001b[0m\u001b[37m\u001b[0m \u001b[1m69s\u001b[0m 3s/step - accuracy: 0.8192 - loss: 0.4712 - val_accuracy: 0.8400 - val_loss: 0.3757\n",
            "Epoch 4/10\n",
            "\u001b[1m25/25\u001b[0m \u001b[32m━━━━━━━━━━━━━━━━━━━━\u001b[0m\u001b[37m\u001b[0m \u001b[1m69s\u001b[0m 3s/step - accuracy: 0.8769 - loss: 0.2939 - val_accuracy: 0.8400 - val_loss: 0.4656\n",
            "Epoch 5/10\n",
            "\u001b[1m25/25\u001b[0m \u001b[32m━━━━━━━━━━━━━━━━━━━━\u001b[0m\u001b[37m\u001b[0m \u001b[1m82s\u001b[0m 3s/step - accuracy: 0.9180 - loss: 0.2629 - val_accuracy: 0.8650 - val_loss: 0.3045\n",
            "Epoch 6/10\n",
            "\u001b[1m25/25\u001b[0m \u001b[32m━━━━━━━━━━━━━━━━━━━━\u001b[0m\u001b[37m\u001b[0m \u001b[1m69s\u001b[0m 3s/step - accuracy: 0.9462 - loss: 0.1595 - val_accuracy: 0.8200 - val_loss: 0.5787\n",
            "Epoch 7/10\n",
            "\u001b[1m25/25\u001b[0m \u001b[32m━━━━━━━━━━━━━━━━━━━━\u001b[0m\u001b[37m\u001b[0m \u001b[1m82s\u001b[0m 3s/step - accuracy: 0.9313 - loss: 0.1978 - val_accuracy: 0.8700 - val_loss: 0.3786\n",
            "Epoch 8/10\n",
            "\u001b[1m25/25\u001b[0m \u001b[32m━━━━━━━━━━━━━━━━━━━━\u001b[0m\u001b[37m\u001b[0m \u001b[1m82s\u001b[0m 3s/step - accuracy: 0.9249 - loss: 0.1638 - val_accuracy: 0.9300 - val_loss: 0.3255\n",
            "Epoch 9/10\n",
            "\u001b[1m25/25\u001b[0m \u001b[32m━━━━━━━━━━━━━━━━━━━━\u001b[0m\u001b[37m\u001b[0m \u001b[1m70s\u001b[0m 3s/step - accuracy: 0.9763 - loss: 0.1027 - val_accuracy: 0.9300 - val_loss: 0.3446\n",
            "Epoch 10/10\n",
            "\u001b[1m25/25\u001b[0m \u001b[32m━━━━━━━━━━━━━━━━━━━━\u001b[0m\u001b[37m\u001b[0m \u001b[1m68s\u001b[0m 3s/step - accuracy: 0.9874 - loss: 0.0524 - val_accuracy: 0.8850 - val_loss: 0.4062\n"
          ]
        }
      ],
      "source": [
        "import tensorflow as tf\n",
        "import numpy as np\n",
        "import os\n",
        "from PIL import Image\n",
        "\n",
        "# Setări\n",
        "BATCH_SIZE = 32\n",
        "IMG_SIZE = (224, 224)\n",
        "DATA_DIR = \"/content/dataset/SkinMate-Dataset\"\n",
        "ALLOWED_EXT = {\".jpg\", \".jpeg\", \".png\", \".bmp\", \".gif\"}\n",
        "\n",
        "# 1. Verificarea și conversia imaginilor\n",
        "def verify_and_convert_images(root_dir):\n",
        "    for root, _, files in os.walk(root_dir):\n",
        "        for file in files:\n",
        "            ext = os.path.splitext(file)[1].lower()\n",
        "            img_path = os.path.join(root, file)\n",
        "\n",
        "            if ext not in ALLOWED_EXT:\n",
        "                print(f\"Fișier invalid eliminat: {img_path}\")\n",
        "                os.remove(img_path)  # Elimină fișierul invalid\n",
        "            else:\n",
        "                try:\n",
        "                    img = Image.open(img_path)\n",
        "                    img = img.convert(\"RGB\")  # Asigură formatul RGB\n",
        "                    img.save(img_path)\n",
        "                except Exception as e:\n",
        "                    print(f\"Eroare la conversie: {img_path} - {e}\")\n",
        "\n",
        "verify_and_convert_images(DATA_DIR)\n",
        "\n",
        "# 2. Încărcarea datasetului (păstrăm class_names înainte de preprocesare)\n",
        "raw_train_ds = tf.keras.utils.image_dataset_from_directory(\n",
        "    DATA_DIR,\n",
        "    validation_split=0.2,\n",
        "    subset=\"training\",\n",
        "    seed=123,\n",
        "    image_size=IMG_SIZE,\n",
        "    batch_size=BATCH_SIZE\n",
        ")\n",
        "\n",
        "raw_val_ds = tf.keras.utils.image_dataset_from_directory(\n",
        "    DATA_DIR,\n",
        "    validation_split=0.2,\n",
        "    subset=\"validation\",\n",
        "    seed=123,\n",
        "    image_size=IMG_SIZE,\n",
        "    batch_size=BATCH_SIZE\n",
        ")\n",
        "\n",
        "class_names = raw_train_ds.class_names\n",
        "print(\"Classes:\", class_names)\n",
        "\n",
        "# 3. Normalizarea și prefetching-ul datelor\n",
        "AUTOTUNE = tf.data.AUTOTUNE\n",
        "normalization_layer = tf.keras.layers.Rescaling(1./255)\n",
        "\n",
        "train_ds = raw_train_ds.map(lambda x, y: (normalization_layer(x), y)).prefetch(buffer_size=AUTOTUNE)\n",
        "val_ds = raw_val_ds.map(lambda x, y: (normalization_layer(x), y)).prefetch(buffer_size=AUTOTUNE)\n",
        "\n",
        "# 4. Crearea modelului CNN\n",
        "model = tf.keras.Sequential([\n",
        "    tf.keras.layers.Conv2D(32, (3,3), activation='relu', input_shape=(224, 224, 3)),\n",
        "    tf.keras.layers.MaxPooling2D(2,2),\n",
        "    tf.keras.layers.Conv2D(64, (3,3), activation='relu'),\n",
        "    tf.keras.layers.MaxPooling2D(2,2),\n",
        "    tf.keras.layers.Conv2D(128, (3,3), activation='relu'),\n",
        "    tf.keras.layers.MaxPooling2D(2,2),\n",
        "    tf.keras.layers.Flatten(),\n",
        "    tf.keras.layers.Dense(512, activation='relu'),\n",
        "    tf.keras.layers.Dense(len(class_names), activation='softmax')\n",
        "])\n",
        "\n",
        "model.compile(optimizer='adam',\n",
        "              loss=tf.keras.losses.SparseCategoricalCrossentropy(),\n",
        "              metrics=['accuracy'])\n",
        "\n",
        "# 5. Antrenarea modelului\n",
        "epochs = 10\n",
        "history = model.fit(train_ds, validation_data=val_ds, epochs=epochs)"
      ]
    },
    {
      "cell_type": "code",
      "execution_count": null,
      "metadata": {},
      "outputs": [],
      "source": [
        "import pandas as pd\n",
        "\n",
        "# functie pentru formatarea pretului\n",
        "def format_price(price_val):\n",
        "    if isinstance(price_val, str):\n",
        "        if 'Rp' in price_val:\n",
        "            return price_val.strip()\n",
        "        else:\n",
        "            try:\n",
        "                price_num = float(price_val.replace('.', '').replace(',', '.'))\n",
        "                return f\"Rp {price_num:,.0f}\".replace(',', '.')\n",
        "            except:\n",
        "                return price_val.strip()\n",
        "    else:\n",
        "        try:\n",
        "            price_num = float(price_val)\n",
        "            return f\"Rp {price_num:,.0f}\".replace(',', '.')\n",
        "        except:\n",
        "            return str(price_val)\n",
        "        \n",
        "# functie pentru recomandare de produse\n",
        "def get_product_recommendations_from_excel(problem_tag, excel_path='Dataset Skincare Product.xlsx'):\n",
        "    df = pd.read_excel(excel_path, sheet_name='skinTreatment')\n",
        "\n",
        "    df = df.fillna('')\n",
        "    df['Tags'] = df['Tags'].astype(str).str.lower()\n",
        "\n",
        "    recomandari = df[df['Tags'].str.contains(problem_tag.lower(), na=False)]\n",
        "\n",
        "    if recomandari.empty:\n",
        "        return [\"Nu există produse disponibile pentru această problemă.\"]\n",
        "\n",
        "    produse = []\n",
        "    for _, row in recomandari.iterrows():\n",
        "        price = format_price(row['Price'])\n",
        "        info = (\n",
        "            f\"🔹 {row['Brand']} - {row['Product Name']}\\n\"\n",
        "            f\"   💰 {price}\\n\"\n",
        "            f\"   🔗 {row['Links']}\\n\"\n",
        "        )\n",
        "        produse.append(info)\n",
        "\n",
        "    return produse"
      ]
    }
  ],
  "metadata": {
    "colab": {
      "provenance": []
    },
    "kernelspec": {
      "display_name": "Python 3",
      "name": "python3"
    },
    "language_info": {
      "name": "python"
    }
  },
  "nbformat": 4,
  "nbformat_minor": 0
}
