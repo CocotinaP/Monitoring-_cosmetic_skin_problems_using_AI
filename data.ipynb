{
 "cells": [
  {
   "cell_type": "code",
   "execution_count": 8,
   "metadata": {},
   "outputs": [
    {
     "name": "stdout",
     "output_type": "stream",
     "text": [
      "Categoria 'acnes': 250 imagini\n",
      "Categoria 'blackheads': 250 imagini\n",
      "Categoria 'darkspots': 250 imagini\n",
      "Categoria 'wrinkles': 250 imagini\n"
     ]
    }
   ],
   "source": [
    "import os\n",
    "\n",
    "data_path = os.path.join('data')\n",
    "\n",
    "image_counts = {}\n",
    "\n",
    "for category in os.listdir(data_path):\n",
    "    category_path = os.path.join(data_path, category)\n",
    "    if os.path.isdir(category_path):\n",
    "        count = len([f for f in os.listdir(category_path) if f.lower().endswith(('.jpg', '.jpeg', '.png'))])\n",
    "        image_counts[category] = count\n",
    "\n",
    "for cat, count in image_counts.items():\n",
    "    print(f\"Categoria '{cat}': {count} imagini\")"
   ]
  }
 ],
 "metadata": {
  "kernelspec": {
   "display_name": ".venv",
   "language": "python",
   "name": "python3"
  },
  "language_info": {
   "codemirror_mode": {
    "name": "ipython",
    "version": 3
   },
   "file_extension": ".py",
   "mimetype": "text/x-python",
   "name": "python",
   "nbconvert_exporter": "python",
   "pygments_lexer": "ipython3",
   "version": "3.12.0"
  }
 },
 "nbformat": 4,
 "nbformat_minor": 2
}
